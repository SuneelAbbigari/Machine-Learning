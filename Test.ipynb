{
  "nbformat": 4,
  "nbformat_minor": 0,
  "metadata": {
    "kernelspec": {
      "display_name": "Python 3",
      "language": "python",
      "name": "python3"
    },
    "language_info": {
      "codemirror_mode": {
        "name": "ipython",
        "version": 3
      },
      "file_extension": ".py",
      "mimetype": "text/x-python",
      "name": "python",
      "nbconvert_exporter": "python",
      "pygments_lexer": "ipython3",
      "version": "3.7.6"
    },
    "colab": {
      "name": "Test.ipynb",
      "provenance": [],
      "include_colab_link": true
    },
    "accelerator": "GPU"
  },
  "cells": [
    {
      "cell_type": "markdown",
      "metadata": {
        "id": "view-in-github",
        "colab_type": "text"
      },
      "source": [
        "<a href=\"https://colab.research.google.com/github/SuneelAbbigari/Machine-Learning/blob/master/Test.ipynb\" target=\"_parent\"><img src=\"https://colab.research.google.com/assets/colab-badge.svg\" alt=\"Open In Colab\"/></a>"
      ]
    },
    {
      "cell_type": "code",
      "metadata": {
        "id": "_F1kYRhFqyy3",
        "colab_type": "code",
        "colab": {
          "base_uri": "https://localhost:8080/",
          "height": 34
        },
        "outputId": "2d00895f-fb6d-405a-be74-1c8161aab307"
      },
      "source": [
        "import tensorflow as tf\n",
        "from tensorflow.keras.models import Sequential\n",
        "from tensorflow.keras.layers import Dense, Conv2D, Flatten, Dropout, MaxPooling2D, Activation\n",
        "from tensorflow.keras.preprocessing.image import ImageDataGenerator\n",
        "from sklearn.model_selection import train_test_split\n",
        "import keras\n",
        "\n",
        "import os\n",
        "import numpy as np\n",
        "import pandas as pd \n",
        "import matplotlib.pyplot as plt\n",
        "%matplotlib inline\n",
        "import cv2 as cv\n",
        "import glob"
      ],
      "execution_count": 2,
      "outputs": [
        {
          "output_type": "stream",
          "text": [
            "Using TensorFlow backend.\n"
          ],
          "name": "stderr"
        }
      ]
    },
    {
      "cell_type": "code",
      "metadata": {
        "id": "Zv7QsNhXrX2R",
        "colab_type": "code",
        "colab": {}
      },
      "source": [
        "data = tf.keras.datasets.cifar10\n",
        "(x_train, y_train), (x_test, y_test) = data.load_data()"
      ],
      "execution_count": 6,
      "outputs": []
    },
    {
      "cell_type": "code",
      "metadata": {
        "id": "di3QDU2mrcTD",
        "colab_type": "code",
        "colab": {
          "base_uri": "https://localhost:8080/",
          "height": 50
        },
        "outputId": "eb668fd0-d78c-47f0-b54d-ec6c767032e2"
      },
      "source": [
        "display(x_train.shape)\n",
        "display(y_train.shape)"
      ],
      "execution_count": 7,
      "outputs": [
        {
          "output_type": "display_data",
          "data": {
            "text/plain": [
              "(50000, 32, 32, 3)"
            ]
          },
          "metadata": {
            "tags": []
          }
        },
        {
          "output_type": "display_data",
          "data": {
            "text/plain": [
              "(50000, 1)"
            ]
          },
          "metadata": {
            "tags": []
          }
        }
      ]
    },
    {
      "cell_type": "code",
      "metadata": {
        "id": "Mb3iRh9trf30",
        "colab_type": "code",
        "colab": {
          "base_uri": "https://localhost:8080/",
          "height": 50
        },
        "outputId": "2042450e-b626-47bb-ccaf-ca1136423831"
      },
      "source": [
        "print(type(y_train[0]))\n",
        "print(\"x_train shape is :\", y_train[0])"
      ],
      "execution_count": 8,
      "outputs": [
        {
          "output_type": "stream",
          "text": [
            "<class 'numpy.ndarray'>\n",
            "x_train shape is : [6]\n"
          ],
          "name": "stdout"
        }
      ]
    },
    {
      "cell_type": "code",
      "metadata": {
        "id": "O9NoszilrlQs",
        "colab_type": "code",
        "colab": {
          "base_uri": "https://localhost:8080/",
          "height": 857
        },
        "outputId": "df7db9d0-8708-4e80-fea5-f2126ca8ae65"
      },
      "source": [
        "print(type(x_train[0]))\n",
        "print(\"x_train shape is :\", x_train[0])"
      ],
      "execution_count": 9,
      "outputs": [
        {
          "output_type": "stream",
          "text": [
            "<class 'numpy.ndarray'>\n",
            "x_train shape is : [[[ 59  62  63]\n",
            "  [ 43  46  45]\n",
            "  [ 50  48  43]\n",
            "  ...\n",
            "  [158 132 108]\n",
            "  [152 125 102]\n",
            "  [148 124 103]]\n",
            "\n",
            " [[ 16  20  20]\n",
            "  [  0   0   0]\n",
            "  [ 18   8   0]\n",
            "  ...\n",
            "  [123  88  55]\n",
            "  [119  83  50]\n",
            "  [122  87  57]]\n",
            "\n",
            " [[ 25  24  21]\n",
            "  [ 16   7   0]\n",
            "  [ 49  27   8]\n",
            "  ...\n",
            "  [118  84  50]\n",
            "  [120  84  50]\n",
            "  [109  73  42]]\n",
            "\n",
            " ...\n",
            "\n",
            " [[208 170  96]\n",
            "  [201 153  34]\n",
            "  [198 161  26]\n",
            "  ...\n",
            "  [160 133  70]\n",
            "  [ 56  31   7]\n",
            "  [ 53  34  20]]\n",
            "\n",
            " [[180 139  96]\n",
            "  [173 123  42]\n",
            "  [186 144  30]\n",
            "  ...\n",
            "  [184 148  94]\n",
            "  [ 97  62  34]\n",
            "  [ 83  53  34]]\n",
            "\n",
            " [[177 144 116]\n",
            "  [168 129  94]\n",
            "  [179 142  87]\n",
            "  ...\n",
            "  [216 184 140]\n",
            "  [151 118  84]\n",
            "  [123  92  72]]]\n"
          ],
          "name": "stdout"
        }
      ]
    },
    {
      "cell_type": "code",
      "metadata": {
        "id": "qkCs5sAVrnpF",
        "colab_type": "code",
        "colab": {
          "base_uri": "https://localhost:8080/",
          "height": 223
        },
        "outputId": "9e7a3c05-3021-4b1c-e4c0-052942de6eb8"
      },
      "source": [
        "plt.figure(figsize=(2,2))\n",
        "plt.title(y_train[0])\n",
        "plt.imshow(x_train[0])\n",
        "plt.colorbar()\n"
      ],
      "execution_count": 10,
      "outputs": [
        {
          "output_type": "stream",
          "text": [
            "/usr/local/lib/python3.6/dist-packages/matplotlib/text.py:1165: FutureWarning: elementwise comparison failed; returning scalar instead, but in the future will perform elementwise comparison\n",
            "  if s != self._text:\n"
          ],
          "name": "stderr"
        },
        {
          "output_type": "execute_result",
          "data": {
            "text/plain": [
              "<matplotlib.colorbar.Colorbar at 0x7f6e840ccc88>"
            ]
          },
          "metadata": {
            "tags": []
          },
          "execution_count": 10
        },
        {
          "output_type": "display_data",
          "data": {
            "image/png": "[encoded data removed]",
            "text/plain": [
              "<Figure size 144x144 with 2 Axes>"
            ]
          },
          "metadata": {
            "tags": [],
            "needs_background": "light"
          }
        }
      ]
    },
    {
      "cell_type": "code",
      "metadata": {
        "id": "VXmvwOdjruLG",
        "colab_type": "code",
        "colab": {}
      },
      "source": [
        "x_train = x_train.astype(np.float32)\n",
        "x_test = x_test.astype(np.float32)\n",
        "\n",
        "x_train /= 255\n",
        "x_test /= 255\n",
        "\n",
        "\n",
        "y_train = keras.utils.to_categorical(y_train, 10)\n",
        "y_test = keras.utils.to_categorical(y_test, 10)"
      ],
      "execution_count": 11,
      "outputs": []
    },
    {
      "cell_type": "code",
      "metadata": {
        "id": "mRo_yDEPryfV",
        "colab_type": "code",
        "colab": {
          "base_uri": "https://localhost:8080/",
          "height": 890
        },
        "outputId": "9455f198-cdc4-4604-f3f8-5032ef7c9560"
      },
      "source": [
        "print(type(x_train[0]))\n",
        "print(\"x_train shape is :\", x_train[0])\n",
        "\n",
        "print(type(y_train[0]))\n",
        "print(\"x_train shape is :\", y_train[0])"
      ],
      "execution_count": 12,
      "outputs": [
        {
          "output_type": "stream",
          "text": [
            "<class 'numpy.ndarray'>\n",
            "x_train shape is : [[[0.23137255 0.24313726 0.24705882]\n",
            "  [0.16862746 0.18039216 0.1764706 ]\n",
            "  [0.19607843 0.1882353  0.16862746]\n",
            "  ...\n",
            "  [0.61960787 0.5176471  0.42352942]\n",
            "  [0.59607846 0.49019608 0.4       ]\n",
            "  [0.5803922  0.4862745  0.40392157]]\n",
            "\n",
            " [[0.0627451  0.07843138 0.07843138]\n",
            "  [0.         0.         0.        ]\n",
            "  [0.07058824 0.03137255 0.        ]\n",
            "  ...\n",
            "  [0.48235294 0.34509805 0.21568628]\n",
            "  [0.46666667 0.3254902  0.19607843]\n",
            "  [0.47843137 0.34117648 0.22352941]]\n",
            "\n",
            " [[0.09803922 0.09411765 0.08235294]\n",
            "  [0.0627451  0.02745098 0.        ]\n",
            "  [0.19215687 0.10588235 0.03137255]\n",
            "  ...\n",
            "  [0.4627451  0.32941177 0.19607843]\n",
            "  [0.47058824 0.32941177 0.19607843]\n",
            "  [0.42745098 0.28627452 0.16470589]]\n",
            "\n",
            " ...\n",
            "\n",
            " [[0.8156863  0.6666667  0.3764706 ]\n",
            "  [0.7882353  0.6        0.13333334]\n",
            "  [0.7764706  0.6313726  0.10196079]\n",
            "  ...\n",
            "  [0.627451   0.52156866 0.27450982]\n",
            "  [0.21960784 0.12156863 0.02745098]\n",
            "  [0.20784314 0.13333334 0.07843138]]\n",
            "\n",
            " [[0.7058824  0.54509807 0.3764706 ]\n",
            "  [0.6784314  0.48235294 0.16470589]\n",
            "  [0.7294118  0.5647059  0.11764706]\n",
            "  ...\n",
            "  [0.72156864 0.5803922  0.36862746]\n",
            "  [0.38039216 0.24313726 0.13333334]\n",
            "  [0.3254902  0.20784314 0.13333334]]\n",
            "\n",
            " [[0.69411767 0.5647059  0.45490196]\n",
            "  [0.65882355 0.5058824  0.36862746]\n",
            "  [0.7019608  0.5568628  0.34117648]\n",
            "  ...\n",
            "  [0.84705883 0.72156864 0.54901963]\n",
            "  [0.5921569  0.4627451  0.32941177]\n",
            "  [0.48235294 0.36078432 0.28235295]]]\n",
            "<class 'numpy.ndarray'>\n",
            "x_train shape is : [0. 0. 0. 0. 0. 0. 1. 0. 0. 0.]\n"
          ],
          "name": "stdout"
        }
      ]
    },
    {
      "cell_type": "code",
      "metadata": {
        "id": "E-mgx02Br7xf",
        "colab_type": "code",
        "colab": {
          "base_uri": "https://localhost:8080/",
          "height": 223
        },
        "outputId": "902da9b4-cda3-45f3-9346-66246a036df0"
      },
      "source": [
        "plt.figure(figsize=(2,2))\n",
        "plt.title(y_train[0])\n",
        "plt.imshow(x_train[0])\n",
        "plt.colorbar()"
      ],
      "execution_count": 13,
      "outputs": [
        {
          "output_type": "stream",
          "text": [
            "/usr/local/lib/python3.6/dist-packages/matplotlib/text.py:1165: FutureWarning: elementwise comparison failed; returning scalar instead, but in the future will perform elementwise comparison\n",
            "  if s != self._text:\n"
          ],
          "name": "stderr"
        },
        {
          "output_type": "execute_result",
          "data": {
            "text/plain": [
              "<matplotlib.colorbar.Colorbar at 0x7f6e83b4fa90>"
            ]
          },
          "metadata": {
            "tags": []
          },
          "execution_count": 13
        },
        {
          "output_type": "display_data",
          "data": {
            "image/png": "[encoded data removed]",
            "text/plain": [
              "<Figure size 144x144 with 2 Axes>"
            ]
          },
          "metadata": {
            "tags": [],
            "needs_background": "light"
          }
        }
      ]
    },
    {
      "cell_type": "code",
      "metadata": {
        "id": "5eyX74T6r_At",
        "colab_type": "code",
        "colab": {
          "base_uri": "https://localhost:8080/",
          "height": 84
        },
        "outputId": "0bc43e22-fb84-47ea-b701-6b18d46caa0c"
      },
      "source": [
        "train_data, valid_data, train_val, valid_val = train_test_split(x_train, y_train, test_size=0.2, random_state=1,stratify=y_train)\n",
        "\n",
        "\n",
        "# Datasets shapes\n",
        "print( \"train_data shape\",train_data.shape)\n",
        "print( \"train_val shape\",train_val.shape)\n",
        "print( \"valid_data shape\",valid_data.shape)\n",
        "print( \"valid_val shape\",valid_val.shape)"
      ],
      "execution_count": 14,
      "outputs": [
        {
          "output_type": "stream",
          "text": [
            "train_data shape (40000, 32, 32, 3)\n",
            "train_val shape (40000, 10)\n",
            "valid_data shape (10000, 32, 32, 3)\n",
            "valid_val shape (10000, 10)\n"
          ],
          "name": "stdout"
        }
      ]
    },
    {
      "cell_type": "code",
      "metadata": {
        "id": "K0zKsYYKsGBe",
        "colab_type": "code",
        "colab": {
          "base_uri": "https://localhost:8080/",
          "height": 67
        },
        "outputId": "3585dbb0-9616-4107-89df-cddc5ee5000d"
      },
      "source": [
        "print(type(y_train[0]))\n",
        "print(\"y_train shape is :\", y_train[0])\n",
        "max_index_col = np.argmax(y_train[0], axis=0)\n",
        "max_index_col"
      ],
      "execution_count": 15,
      "outputs": [
        {
          "output_type": "stream",
          "text": [
            "<class 'numpy.ndarray'>\n",
            "y_train shape is : [0. 0. 0. 0. 0. 0. 1. 0. 0. 0.]\n"
          ],
          "name": "stdout"
        },
        {
          "output_type": "execute_result",
          "data": {
            "text/plain": [
              "6"
            ]
          },
          "metadata": {
            "tags": []
          },
          "execution_count": 15
        }
      ]
    },
    {
      "cell_type": "code",
      "metadata": {
        "id": "MGJRS32xsJQd",
        "colab_type": "code",
        "colab": {
          "base_uri": "https://localhost:8080/",
          "height": 193
        },
        "outputId": "0d74d017-b2a6-4ae4-b6ab-66ce30459f5e"
      },
      "source": [
        "labels = ['Airplane', 'Automobile', 'Bird', 'Cat', 'Deer', 'Dog', 'Frog', 'Horse', 'Ship', 'Truck']\n",
        "\n",
        "\n",
        "plt.figure(figsize=(2,2))\n",
        "print(labels[max_index_col])\n",
        "plt.imshow(x_train[0])\n",
        "\n"
      ],
      "execution_count": 16,
      "outputs": [
        {
          "output_type": "stream",
          "text": [
            "Frog\n"
          ],
          "name": "stdout"
        },
        {
          "output_type": "execute_result",
          "data": {
            "text/plain": [
              "<matplotlib.image.AxesImage at 0x7f6e83b3ba58>"
            ]
          },
          "metadata": {
            "tags": []
          },
          "execution_count": 16
        },
        {
          "output_type": "display_data",
          "data": {
            "image/png": "[encoded data removed]",
            "text/plain": [
              "<Figure size 144x144 with 1 Axes>"
            ]
          },
          "metadata": {
            "tags": [],
            "needs_background": "light"
          }
        }
      ]
    },
    {
      "cell_type": "code",
      "metadata": {
        "id": "vPNnPF64sOhH",
        "colab_type": "code",
        "colab": {
          "base_uri": "https://localhost:8080/",
          "height": 655
        },
        "outputId": "34e9f0e1-0956-4ca3-8576-7348b5cdc520"
      },
      "source": [
        "#Definig my sequential model\n",
        "\n",
        "model = Sequential()\n",
        "model.add(Conv2D(64, (4, 4), padding='same', input_shape=x_train.shape[1:]))\n",
        "model.add(Activation('relu'))\n",
        "model.add(MaxPooling2D(pool_size=(2, 2)))                    #Doubt: what is the default pooling size ?\n",
        "\n",
        "model.add(Conv2D(64, (4, 4)))\n",
        "model.add(Activation('relu'))\n",
        "model.add(MaxPooling2D(pool_size=(2, 2))) \n",
        "\n",
        "model.add(Flatten())\n",
        "model.add(Dense(512))\n",
        "model.add(Activation('relu'))\n",
        "model.add(Dropout(0.2))\n",
        "\n",
        "model.add(Dense(64))\n",
        "model.add(Activation('relu'))\n",
        "model.add(Dropout(0.4))\n",
        "\n",
        "model.add(Dense(10))                                           # Here 10 is number of classes.\n",
        "model.add(Activation('softmax'))\n",
        "\n",
        "model.summary()\n"
      ],
      "execution_count": 17,
      "outputs": [
        {
          "output_type": "stream",
          "text": [
            "Model: \"sequential\"\n",
            "_________________________________________________________________\n",
            "Layer (type)                 Output Shape              Param #   \n",
            "=================================================================\n",
            "conv2d (Conv2D)              (None, 32, 32, 64)        3136      \n",
            "_________________________________________________________________\n",
            "activation (Activation)      (None, 32, 32, 64)        0         \n",
            "_________________________________________________________________\n",
            "max_pooling2d (MaxPooling2D) (None, 16, 16, 64)        0         \n",
            "_________________________________________________________________\n",
            "conv2d_1 (Conv2D)            (None, 13, 13, 64)        65600     \n",
            "_________________________________________________________________\n",
            "activation_1 (Activation)    (None, 13, 13, 64)        0         \n",
            "_________________________________________________________________\n",
            "max_pooling2d_1 (MaxPooling2 (None, 6, 6, 64)          0         \n",
            "_________________________________________________________________\n",
            "flatten (Flatten)            (None, 2304)              0         \n",
            "_________________________________________________________________\n",
            "dense (Dense)                (None, 512)               1180160   \n",
            "_________________________________________________________________\n",
            "activation_2 (Activation)    (None, 512)               0         \n",
            "_________________________________________________________________\n",
            "dropout (Dropout)            (None, 512)               0         \n",
            "_________________________________________________________________\n",
            "dense_1 (Dense)              (None, 64)                32832     \n",
            "_________________________________________________________________\n",
            "activation_3 (Activation)    (None, 64)                0         \n",
            "_________________________________________________________________\n",
            "dropout_1 (Dropout)          (None, 64)                0         \n",
            "_________________________________________________________________\n",
            "dense_2 (Dense)              (None, 10)                650       \n",
            "_________________________________________________________________\n",
            "activation_4 (Activation)    (None, 10)                0         \n",
            "=================================================================\n",
            "Total params: 1,282,378\n",
            "Trainable params: 1,282,378\n",
            "Non-trainable params: 0\n",
            "_________________________________________________________________\n"
          ],
          "name": "stdout"
        }
      ]
    },
    {
      "cell_type": "code",
      "metadata": {
        "id": "USenrOzSsTpM",
        "colab_type": "code",
        "colab": {
          "base_uri": "https://localhost:8080/",
          "height": 386
        },
        "outputId": "578a4c04-f4d6-49b5-af8f-9fe7fb075c15"
      },
      "source": [
        "#Training the model\n",
        "\n",
        "categorical_crossentropy = tf.keras.losses.SparseCategoricalCrossentropy(from_logits = True)\n",
        "\n",
        "model.compile(optimizer='adam',loss= 'categorical_crossentropy',metrics=['accuracy'])\n",
        "\n",
        "#Ran for the fisrt time to check the accuracy and loss ..and find the number of epochs. Later dome the same fit method by using data argumentation.\n",
        "callback = tf.keras.callbacks.EarlyStopping(monitor='val_loss',min_delta=0.0001, patience=2)\n",
        "\n",
        "history = model.fit(train_data, train_val,\n",
        "              batch_size=128,\n",
        "              epochs=40,\n",
        "              callbacks=[callback],\n",
        "              validation_data=(valid_data, valid_val),\n",
        "              shuffle=True)"
      ],
      "execution_count": 18,
      "outputs": [
        {
          "output_type": "stream",
          "text": [
            "Epoch 1/40\n",
            "313/313 [==============================] - 6s 18ms/step - loss: 1.7319 - accuracy: 0.3651 - val_loss: 1.3512 - val_accuracy: 0.5075\n",
            "Epoch 2/40\n",
            "313/313 [==============================] - 5s 17ms/step - loss: 1.3460 - accuracy: 0.5219 - val_loss: 1.1749 - val_accuracy: 0.5791\n",
            "Epoch 3/40\n",
            "313/313 [==============================] - 5s 17ms/step - loss: 1.1779 - accuracy: 0.5909 - val_loss: 1.0852 - val_accuracy: 0.6108\n",
            "Epoch 4/40\n",
            "313/313 [==============================] - 5s 17ms/step - loss: 1.0560 - accuracy: 0.6336 - val_loss: 1.0214 - val_accuracy: 0.6490\n",
            "Epoch 5/40\n",
            "313/313 [==============================] - 5s 17ms/step - loss: 0.9594 - accuracy: 0.6732 - val_loss: 0.9393 - val_accuracy: 0.6723\n",
            "Epoch 6/40\n",
            "313/313 [==============================] - 5s 17ms/step - loss: 0.8794 - accuracy: 0.6967 - val_loss: 0.8979 - val_accuracy: 0.6943\n",
            "Epoch 7/40\n",
            "313/313 [==============================] - 5s 17ms/step - loss: 0.8040 - accuracy: 0.7237 - val_loss: 0.8598 - val_accuracy: 0.7030\n",
            "Epoch 8/40\n",
            "313/313 [==============================] - 5s 17ms/step - loss: 0.7395 - accuracy: 0.7458 - val_loss: 0.8739 - val_accuracy: 0.7057\n",
            "Epoch 9/40\n",
            "313/313 [==============================] - 5s 17ms/step - loss: 0.6664 - accuracy: 0.7717 - val_loss: 0.8533 - val_accuracy: 0.7192\n",
            "Epoch 10/40\n",
            "313/313 [==============================] - 5s 17ms/step - loss: 0.6093 - accuracy: 0.7903 - val_loss: 0.8534 - val_accuracy: 0.7182\n",
            "Epoch 11/40\n",
            "313/313 [==============================] - 5s 17ms/step - loss: 0.5494 - accuracy: 0.8104 - val_loss: 0.8864 - val_accuracy: 0.7086\n"
          ],
          "name": "stdout"
        }
      ]
    },
    {
      "cell_type": "code",
      "metadata": {
        "id": "27QeqiIKs-_S",
        "colab_type": "code",
        "colab": {
          "base_uri": "https://localhost:8080/",
          "height": 34
        },
        "outputId": "aaa16b70-bba4-490f-8861-4c9f3fc037f9"
      },
      "source": [
        "tf.keras.callbacks.History()\n",
        "len(history.history['loss']) "
      ],
      "execution_count": 19,
      "outputs": [
        {
          "output_type": "execute_result",
          "data": {
            "text/plain": [
              "11"
            ]
          },
          "metadata": {
            "tags": []
          },
          "execution_count": 19
        }
      ]
    },
    {
      "cell_type": "code",
      "metadata": {
        "id": "ySIbQW8zuZE4",
        "colab_type": "code",
        "colab": {
          "base_uri": "https://localhost:8080/",
          "height": 367
        },
        "outputId": "789ea9a1-320a-4e35-c636-d48637f088cf"
      },
      "source": [
        "def plotmodelhistory(history): \n",
        "    fig, axs = plt.subplots(1,2,figsize=(15,5)) \n",
        "    # summarize history for accuracy\n",
        "    axs[0].plot(history.history['accuracy']) \n",
        "    axs[0].plot(history.history['val_accuracy']) \n",
        "    axs[0].set_title('Model Accuracy')\n",
        "    axs[0].set_ylabel('Accuracy') \n",
        "    axs[0].set_xlabel('Epoch')\n",
        "    axs[0].legend(['train', 'validate'], loc='upper left')\n",
        "    # summarize history for loss\n",
        "    axs[1].plot(history.history['loss']) \n",
        "    axs[1].plot(history.history['val_loss']) \n",
        "    axs[1].set_title('Model Loss')\n",
        "    axs[1].set_ylabel('Loss') \n",
        "    axs[1].set_xlabel('Epoch')\n",
        "    axs[1].legend(['train', 'validate'], loc='upper left')\n",
        "    plt.show()\n",
        "\n",
        "# list all data in history\n",
        "print(history.history.keys())\n",
        "\n",
        "plotmodelhistory(history)"
      ],
      "execution_count": 20,
      "outputs": [
        {
          "output_type": "stream",
          "text": [
            "dict_keys(['loss', 'accuracy', 'val_loss', 'val_accuracy'])\n"
          ],
          "name": "stdout"
        },
        {
          "output_type": "display_data",
          "data": {
            "image/png": "[encoded data removed]",
            "text/plain": [
              "<Figure size 1080x360 with 2 Axes>"
            ]
          },
          "metadata": {
            "tags": [],
            "needs_background": "light"
          }
        }
      ]
    }
  ]
}