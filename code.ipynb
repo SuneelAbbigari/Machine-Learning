{
  "nbformat": 4,
  "nbformat_minor": 0,
  "metadata": {
    "kernelspec": {
      "display_name": "Python 3",
      "language": "python",
      "name": "python3"
    },
    "language_info": {
      "codemirror_mode": {
        "name": "ipython",
        "version": 3
      },
      "file_extension": ".py",
      "mimetype": "text/x-python",
      "name": "python",
      "nbconvert_exporter": "python",
      "pygments_lexer": "ipython3",
      "version": "3.7.6"
    },
    "colab": {
      "name": "code.ipynb",
      "provenance": [],
      "include_colab_link": true
    },
    "accelerator": "GPU"
  },
  "cells": [
    {
      "cell_type": "markdown",
      "metadata": {
        "id": "view-in-github",
        "colab_type": "text"
      },
      "source": [
        "<a href=\"https://colab.research.google.com/github/SuneelAbbigari/Machine-Learning/blob/master/code.ipynb\" target=\"_parent\"><img src=\"https://colab.research.google.com/assets/colab-badge.svg\" alt=\"Open In Colab\"/></a>"
      ]
    },
    {
      "cell_type": "code",
      "metadata": {
        "id": "CKCVLMEhm74g",
        "colab_type": "code",
        "colab": {
          "base_uri": "https://localhost:8080/",
          "height": 34
        },
        "outputId": "7b4b53ee-0c98-4206-d4a9-80fd8051ffc9"
      },
      "source": [
        "import tensorflow as tf\n",
        "import numpy as np\n",
        "import pandas as pd\n",
        "import matplotlib.pyplot as plt\n",
        "%matplotlib inline\n",
        "\n",
        "import keras\n",
        "from sklearn.model_selection import train_test_split\n",
        "from tensorflow.python.keras.models import Sequential\n",
        "from tensorflow.python.keras.applications.vgg16 import VGG16\n",
        "from tensorflow.python.keras.layers import Dense, Flatten, GlobalAveragePooling2D, Dropout\n",
        "from tensorflow.keras.preprocessing.image import ImageDataGenerator"
      ],
      "execution_count": 1,
      "outputs": [
        {
          "output_type": "stream",
          "text": [
            "Using TensorFlow backend.\n"
          ],
          "name": "stderr"
        }
      ]
    },
    {
      "cell_type": "code",
      "metadata": {
        "id": "A45Dlvy-n52Q",
        "colab_type": "code",
        "colab": {
          "base_uri": "https://localhost:8080/",
          "height": 50
        },
        "outputId": "a540f889-a24f-4ea4-8fb0-15d279982eb7"
      },
      "source": [
        "(x_train, y_train), (x_test, y_test) = tf.keras.datasets.cifar10.load_data()"
      ],
      "execution_count": 2,
      "outputs": [
        {
          "output_type": "stream",
          "text": [
            "Downloading data from https://www.cs.toronto.edu/~kriz/cifar-10-python.tar.gz\n",
            "170500096/170498071 [==============================] - 2s 0us/step\n"
          ],
          "name": "stdout"
        }
      ]
    },
    {
      "cell_type": "code",
      "metadata": {
        "id": "4KEW8siipPMG",
        "colab_type": "code",
        "colab": {
          "base_uri": "https://localhost:8080/",
          "height": 84
        },
        "outputId": "70f33014-c3b3-43a7-fc5a-41374efe2174"
      },
      "source": [
        "display(x_train.shape)\n",
        "display(y_train.shape)\n",
        "\n",
        "print(type(y_train[0]))\n",
        "print(\"x_train shape is :\", y_train[0])"
      ],
      "execution_count": 3,
      "outputs": [
        {
          "output_type": "display_data",
          "data": {
            "text/plain": [
              "(50000, 32, 32, 3)"
            ]
          },
          "metadata": {
            "tags": []
          }
        },
        {
          "output_type": "display_data",
          "data": {
            "text/plain": [
              "(50000, 1)"
            ]
          },
          "metadata": {
            "tags": []
          }
        },
        {
          "output_type": "stream",
          "text": [
            "<class 'numpy.ndarray'>\n",
            "x_train shape is : [6]\n"
          ],
          "name": "stdout"
        }
      ]
    },
    {
      "cell_type": "code",
      "metadata": {
        "id": "PBX-7cdjpiYK",
        "colab_type": "code",
        "colab": {
          "base_uri": "https://localhost:8080/",
          "height": 223
        },
        "outputId": "8824a4b1-b325-4050-f5e8-e7237b5c7869"
      },
      "source": [
        "plt.figure(figsize=(2,2))\n",
        "plt.title(y_train[0])\n",
        "plt.imshow(x_train[0])\n",
        "plt.colorbar()"
      ],
      "execution_count": 4,
      "outputs": [
        {
          "output_type": "stream",
          "text": [
            "/usr/local/lib/python3.6/dist-packages/matplotlib/text.py:1165: FutureWarning: elementwise comparison failed; returning scalar instead, but in the future will perform elementwise comparison\n",
            "  if s != self._text:\n"
          ],
          "name": "stderr"
        },
        {
          "output_type": "execute_result",
          "data": {
            "text/plain": [
              "<matplotlib.colorbar.Colorbar at 0x7ff9c33f8390>"
            ]
          },
          "metadata": {
            "tags": []
          },
          "execution_count": 4
        },
        {
          "output_type": "display_data",
          "data": {
            "image/png": "[encoded data removed]",
            "text/plain": [
              "<Figure size 144x144 with 2 Axes>"
            ]
          },
          "metadata": {
            "tags": [],
            "needs_background": "light"
          }
        }
      ]
    },
    {
      "cell_type": "code",
      "metadata": {
        "id": "9-dodZQOpnLn",
        "colab_type": "code",
        "colab": {}
      },
      "source": [
        "x_train = x_train.astype(np.float32)\n",
        "x_test = x_test.astype(np.float32)\n",
        "\n",
        "x_train /= 255\n",
        "x_test /= 255\n",
        "\n",
        "\n",
        "y_train = keras.utils.to_categorical(y_train, 10)\n",
        "y_test = keras.utils.to_categorical(y_test, 10)"
      ],
      "execution_count": 5,
      "outputs": []
    },
    {
      "cell_type": "code",
      "metadata": {
        "id": "VNgisO1Fp8Ql",
        "colab_type": "code",
        "colab": {
          "base_uri": "https://localhost:8080/",
          "height": 890
        },
        "outputId": "b0d5a870-30cc-4946-f8cc-de1a5c7a877f"
      },
      "source": [
        "print(type(x_train[0]))\n",
        "print(\"x_train shape is :\", x_train[0])\n",
        "\n",
        "print(type(y_train[0]))\n",
        "print(\"x_train shape is :\", y_train[0])"
      ],
      "execution_count": 6,
      "outputs": [
        {
          "output_type": "stream",
          "text": [
            "<class 'numpy.ndarray'>\n",
            "x_train shape is : [[[0.23137255 0.24313726 0.24705882]\n",
            "  [0.16862746 0.18039216 0.1764706 ]\n",
            "  [0.19607843 0.1882353  0.16862746]\n",
            "  ...\n",
            "  [0.61960787 0.5176471  0.42352942]\n",
            "  [0.59607846 0.49019608 0.4       ]\n",
            "  [0.5803922  0.4862745  0.40392157]]\n",
            "\n",
            " [[0.0627451  0.07843138 0.07843138]\n",
            "  [0.         0.         0.        ]\n",
            "  [0.07058824 0.03137255 0.        ]\n",
            "  ...\n",
            "  [0.48235294 0.34509805 0.21568628]\n",
            "  [0.46666667 0.3254902  0.19607843]\n",
            "  [0.47843137 0.34117648 0.22352941]]\n",
            "\n",
            " [[0.09803922 0.09411765 0.08235294]\n",
            "  [0.0627451  0.02745098 0.        ]\n",
            "  [0.19215687 0.10588235 0.03137255]\n",
            "  ...\n",
            "  [0.4627451  0.32941177 0.19607843]\n",
            "  [0.47058824 0.32941177 0.19607843]\n",
            "  [0.42745098 0.28627452 0.16470589]]\n",
            "\n",
            " ...\n",
            "\n",
            " [[0.8156863  0.6666667  0.3764706 ]\n",
            "  [0.7882353  0.6        0.13333334]\n",
            "  [0.7764706  0.6313726  0.10196079]\n",
            "  ...\n",
            "  [0.627451   0.52156866 0.27450982]\n",
            "  [0.21960784 0.12156863 0.02745098]\n",
            "  [0.20784314 0.13333334 0.07843138]]\n",
            "\n",
            " [[0.7058824  0.54509807 0.3764706 ]\n",
            "  [0.6784314  0.48235294 0.16470589]\n",
            "  [0.7294118  0.5647059  0.11764706]\n",
            "  ...\n",
            "  [0.72156864 0.5803922  0.36862746]\n",
            "  [0.38039216 0.24313726 0.13333334]\n",
            "  [0.3254902  0.20784314 0.13333334]]\n",
            "\n",
            " [[0.69411767 0.5647059  0.45490196]\n",
            "  [0.65882355 0.5058824  0.36862746]\n",
            "  [0.7019608  0.5568628  0.34117648]\n",
            "  ...\n",
            "  [0.84705883 0.72156864 0.54901963]\n",
            "  [0.5921569  0.4627451  0.32941177]\n",
            "  [0.48235294 0.36078432 0.28235295]]]\n",
            "<class 'numpy.ndarray'>\n",
            "x_train shape is : [0. 0. 0. 0. 0. 0. 1. 0. 0. 0.]\n"
          ],
          "name": "stdout"
        }
      ]
    },
    {
      "cell_type": "code",
      "metadata": {
        "id": "mmYxVpArqMMS",
        "colab_type": "code",
        "colab": {
          "base_uri": "https://localhost:8080/",
          "height": 223
        },
        "outputId": "0e7d69ec-1153-4c34-c2c9-20dab5e2b439"
      },
      "source": [
        "plt.figure(figsize=(2,2))\n",
        "plt.title(y_train[0])\n",
        "plt.imshow(x_train[0])\n",
        "plt.colorbar()"
      ],
      "execution_count": 7,
      "outputs": [
        {
          "output_type": "stream",
          "text": [
            "/usr/local/lib/python3.6/dist-packages/matplotlib/text.py:1165: FutureWarning: elementwise comparison failed; returning scalar instead, but in the future will perform elementwise comparison\n",
            "  if s != self._text:\n"
          ],
          "name": "stderr"
        },
        {
          "output_type": "execute_result",
          "data": {
            "text/plain": [
              "<matplotlib.colorbar.Colorbar at 0x7ff9c2f0b470>"
            ]
          },
          "metadata": {
            "tags": []
          },
          "execution_count": 7
        },
        {
          "output_type": "display_data",
          "data": {
            "image/png": "[encoded data removed]",
            "text/plain": [
              "<Figure size 144x144 with 2 Axes>"
            ]
          },
          "metadata": {
            "tags": [],
            "needs_background": "light"
          }
        }
      ]
    },
    {
      "cell_type": "code",
      "metadata": {
        "id": "v2YS0fjQqbtJ",
        "colab_type": "code",
        "colab": {
          "base_uri": "https://localhost:8080/",
          "height": 84
        },
        "outputId": "cb1cb159-9412-47ca-e758-ba3f1e239d74"
      },
      "source": [
        "train_data, valid_data, train_val, valid_val = train_test_split(x_train, y_train, test_size=0.2, random_state=1,stratify=y_train)\n",
        "\n",
        "\n",
        "# Datasets shapes\n",
        "print( \"train_data shape\",train_data.shape)\n",
        "print( \"train_val shape\",train_val.shape)\n",
        "print( \"valid_data shape\",valid_data.shape)\n",
        "print( \"valid_val shape\",valid_val.shape)"
      ],
      "execution_count": 8,
      "outputs": [
        {
          "output_type": "stream",
          "text": [
            "train_data shape (40000, 32, 32, 3)\n",
            "train_val shape (40000, 10)\n",
            "valid_data shape (10000, 32, 32, 3)\n",
            "valid_val shape (10000, 10)\n"
          ],
          "name": "stdout"
        }
      ]
    },
    {
      "cell_type": "code",
      "metadata": {
        "id": "auj1to-MqmfA",
        "colab_type": "code",
        "colab": {
          "base_uri": "https://localhost:8080/",
          "height": 193
        },
        "outputId": "58c562e8-dc54-4880-febb-13a19beddee3"
      },
      "source": [
        "labels = ['Airplane', 'Automobile', 'Bird', 'Cat', 'Deer', 'Dog', 'Frog', 'Horse', 'Ship', 'Truck']\n",
        "max_index_col = np.argmax(y_train[0], axis=0)\n",
        "max_index_col\n",
        "\n",
        "plt.figure(figsize=(2,2))\n",
        "print(labels[max_index_col])\n",
        "plt.imshow(x_train[0])"
      ],
      "execution_count": 9,
      "outputs": [
        {
          "output_type": "stream",
          "text": [
            "Frog\n"
          ],
          "name": "stdout"
        },
        {
          "output_type": "execute_result",
          "data": {
            "text/plain": [
              "<matplotlib.image.AxesImage at 0x7ff9c2e78668>"
            ]
          },
          "metadata": {
            "tags": []
          },
          "execution_count": 9
        },
        {
          "output_type": "display_data",
          "data": {
            "image/png": "[encoded data removed]",
            "text/plain": [
              "<Figure size 144x144 with 1 Axes>"
            ]
          },
          "metadata": {
            "tags": [],
            "needs_background": "light"
          }
        }
      ]
    },
    {
      "cell_type": "code",
      "metadata": {
        "id": "fWPVllQUzl7f",
        "colab_type": "code",
        "colab": {
          "base_uri": "https://localhost:8080/",
          "height": 823
        },
        "outputId": "b6b38996-20c9-4738-8d96-23b3278d45fc"
      },
      "source": [
        "base= VGG16(weights='imagenet', \n",
        "                  include_top=False, \n",
        "                  input_shape=(32, 32, 3))\n",
        "\n",
        "base.summary()"
      ],
      "execution_count": 10,
      "outputs": [
        {
          "output_type": "stream",
          "text": [
            "Downloading data from https://storage.googleapis.com/tensorflow/keras-applications/vgg16/vgg16_weights_tf_dim_ordering_tf_kernels_notop.h5\n",
            "58892288/58889256 [==============================] - 1s 0us/step\n",
            "Model: \"vgg16\"\n",
            "_________________________________________________________________\n",
            "Layer (type)                 Output Shape              Param #   \n",
            "=================================================================\n",
            "input_1 (InputLayer)         [(None, 32, 32, 3)]       0         \n",
            "_________________________________________________________________\n",
            "block1_conv1 (Conv2D)        (None, 32, 32, 64)        1792      \n",
            "_________________________________________________________________\n",
            "block1_conv2 (Conv2D)        (None, 32, 32, 64)        36928     \n",
            "_________________________________________________________________\n",
            "block1_pool (MaxPooling2D)   (None, 16, 16, 64)        0         \n",
            "_________________________________________________________________\n",
            "block2_conv1 (Conv2D)        (None, 16, 16, 128)       73856     \n",
            "_________________________________________________________________\n",
            "block2_conv2 (Conv2D)        (None, 16, 16, 128)       147584    \n",
            "_________________________________________________________________\n",
            "block2_pool (MaxPooling2D)   (None, 8, 8, 128)         0         \n",
            "_________________________________________________________________\n",
            "block3_conv1 (Conv2D)        (None, 8, 8, 256)         295168    \n",
            "_________________________________________________________________\n",
            "block3_conv2 (Conv2D)        (None, 8, 8, 256)         590080    \n",
            "_________________________________________________________________\n",
            "block3_conv3 (Conv2D)        (None, 8, 8, 256)         590080    \n",
            "_________________________________________________________________\n",
            "block3_pool (MaxPooling2D)   (None, 4, 4, 256)         0         \n",
            "_________________________________________________________________\n",
            "block4_conv1 (Conv2D)        (None, 4, 4, 512)         1180160   \n",
            "_________________________________________________________________\n",
            "block4_conv2 (Conv2D)        (None, 4, 4, 512)         2359808   \n",
            "_________________________________________________________________\n",
            "block4_conv3 (Conv2D)        (None, 4, 4, 512)         2359808   \n",
            "_________________________________________________________________\n",
            "block4_pool (MaxPooling2D)   (None, 2, 2, 512)         0         \n",
            "_________________________________________________________________\n",
            "block5_conv1 (Conv2D)        (None, 2, 2, 512)         2359808   \n",
            "_________________________________________________________________\n",
            "block5_conv2 (Conv2D)        (None, 2, 2, 512)         2359808   \n",
            "_________________________________________________________________\n",
            "block5_conv3 (Conv2D)        (None, 2, 2, 512)         2359808   \n",
            "_________________________________________________________________\n",
            "block5_pool (MaxPooling2D)   (None, 1, 1, 512)         0         \n",
            "=================================================================\n",
            "Total params: 14,714,688\n",
            "Trainable params: 14,714,688\n",
            "Non-trainable params: 0\n",
            "_________________________________________________________________\n"
          ],
          "name": "stdout"
        }
      ]
    },
    {
      "cell_type": "code",
      "metadata": {
        "id": "Mt7qtNQd9fB4",
        "colab_type": "code",
        "colab": {}
      },
      "source": [
        "for layer in base.layers:\n",
        "  layer.trainable = False"
      ],
      "execution_count": 11,
      "outputs": []
    },
    {
      "cell_type": "code",
      "metadata": {
        "id": "2Ff2zweW_88P",
        "colab_type": "code",
        "colab": {}
      },
      "source": [
        "model = Sequential()\n",
        "model.add(base)\n",
        "model.add(Flatten())\n",
        "model.add(Dense(128, activation='relu'))\n",
        "model.add(Dense(128, activation='relu'))\n",
        "model.add(Dropout(0.4))\n",
        "model.add(Dense(10, activation='softmax'))"
      ],
      "execution_count": 12,
      "outputs": []
    },
    {
      "cell_type": "code",
      "metadata": {
        "id": "5LBpkBcFASDT",
        "colab_type": "code",
        "colab": {
          "base_uri": "https://localhost:8080/",
          "height": 353
        },
        "outputId": "1ea8642e-9531-40c6-d9c7-a7c8385f446c"
      },
      "source": [
        "model.summary()"
      ],
      "execution_count": 13,
      "outputs": [
        {
          "output_type": "stream",
          "text": [
            "Model: \"sequential\"\n",
            "_________________________________________________________________\n",
            "Layer (type)                 Output Shape              Param #   \n",
            "=================================================================\n",
            "vgg16 (Model)                (None, 1, 1, 512)         14714688  \n",
            "_________________________________________________________________\n",
            "flatten (Flatten)            (None, 512)               0         \n",
            "_________________________________________________________________\n",
            "dense (Dense)                (None, 128)               65664     \n",
            "_________________________________________________________________\n",
            "dense_1 (Dense)              (None, 128)               16512     \n",
            "_________________________________________________________________\n",
            "dropout (Dropout)            (None, 128)               0         \n",
            "_________________________________________________________________\n",
            "dense_2 (Dense)              (None, 10)                1290      \n",
            "=================================================================\n",
            "Total params: 14,798,154\n",
            "Trainable params: 83,466\n",
            "Non-trainable params: 14,714,688\n",
            "_________________________________________________________________\n"
          ],
          "name": "stdout"
        }
      ]
    },
    {
      "cell_type": "code",
      "metadata": {
        "id": "bGaNUJ6IgltK",
        "colab_type": "code",
        "colab": {
          "base_uri": "https://localhost:8080/",
          "height": 50
        },
        "outputId": "864ebd02-6a33-411c-9f77-a0ce02fc9687"
      },
      "source": [
        "datagen = ImageDataGenerator(\n",
        "            horizontal_flip=True,\n",
        "            rotation_range=20,\n",
        "            width_shift_range=0.1,\n",
        "            height_shift_range=0.1,\n",
        "            zoom_range=0.2,\n",
        "            fill_mode='nearest'\n",
        "            )\n",
        "\n",
        "datagen.fit(train_data)\n",
        "print( \"train_data shape\",train_data.shape)\n",
        "print( \"train_val shape\",train_val.shape)"
      ],
      "execution_count": 14,
      "outputs": [
        {
          "output_type": "stream",
          "text": [
            "train_data shape (40000, 32, 32, 3)\n",
            "train_val shape (40000, 10)\n"
          ],
          "name": "stdout"
        }
      ]
    },
    {
      "cell_type": "code",
      "metadata": {
        "id": "JnTFh3Xmg3KU",
        "colab_type": "code",
        "colab": {
          "base_uri": "https://localhost:8080/",
          "height": 1000
        },
        "outputId": "5cbb0183-1043-48ac-9db0-0310377e8c01"
      },
      "source": [
        "categorical_crossentropy = tf.keras.losses.SparseCategoricalCrossentropy(from_logits = True)\n",
        "\n",
        "model.compile(optimizer='adam',loss= 'categorical_crossentropy',metrics=['accuracy'])\n",
        "\n",
        "callback = tf.keras.callbacks.EarlyStopping(monitor='val_loss',min_delta=0.0001, patience=4) \n",
        "\n",
        "history = model.fit_generator(datagen.flow(train_data, train_val,\n",
        "                              batch_size=128),\n",
        "                              epochs=40,\n",
        "                              callbacks=[callback],\n",
        "                              validation_data=(valid_data, valid_val),\n",
        "                              shuffle=True)"
      ],
      "execution_count": 15,
      "outputs": [
        {
          "output_type": "stream",
          "text": [
            "WARNING:tensorflow:From <ipython-input-15-6eb8b24dfcf7>:12: Model.fit_generator (from tensorflow.python.keras.engine.training) is deprecated and will be removed in a future version.\n",
            "Instructions for updating:\n",
            "Please use Model.fit, which supports generators.\n",
            "Epoch 1/40\n",
            "313/313 [==============================] - 39s 124ms/step - loss: 1.7181 - accuracy: 0.3898 - val_loss: 1.3748 - val_accuracy: 0.5105\n",
            "Epoch 2/40\n",
            "313/313 [==============================] - 37s 118ms/step - loss: 1.4783 - accuracy: 0.4810 - val_loss: 1.2778 - val_accuracy: 0.5589\n",
            "Epoch 3/40\n",
            "313/313 [==============================] - 36s 116ms/step - loss: 1.4187 - accuracy: 0.5047 - val_loss: 1.2353 - val_accuracy: 0.5609\n",
            "Epoch 4/40\n",
            "313/313 [==============================] - 35s 112ms/step - loss: 1.3794 - accuracy: 0.5207 - val_loss: 1.2089 - val_accuracy: 0.5737\n",
            "Epoch 5/40\n",
            "313/313 [==============================] - 36s 117ms/step - loss: 1.3537 - accuracy: 0.5283 - val_loss: 1.1877 - val_accuracy: 0.5825\n",
            "Epoch 6/40\n",
            "313/313 [==============================] - 36s 114ms/step - loss: 1.3392 - accuracy: 0.5307 - val_loss: 1.1729 - val_accuracy: 0.5804\n",
            "Epoch 7/40\n",
            "313/313 [==============================] - 35s 111ms/step - loss: 1.3140 - accuracy: 0.5428 - val_loss: 1.1858 - val_accuracy: 0.5790\n",
            "Epoch 8/40\n",
            "313/313 [==============================] - 35s 111ms/step - loss: 1.3065 - accuracy: 0.5454 - val_loss: 1.1526 - val_accuracy: 0.5883\n",
            "Epoch 9/40\n",
            "313/313 [==============================] - 36s 116ms/step - loss: 1.2943 - accuracy: 0.5476 - val_loss: 1.1519 - val_accuracy: 0.5965\n",
            "Epoch 10/40\n",
            "313/313 [==============================] - 35s 113ms/step - loss: 1.2833 - accuracy: 0.5501 - val_loss: 1.1523 - val_accuracy: 0.5935\n",
            "Epoch 11/40\n",
            "313/313 [==============================] - 35s 111ms/step - loss: 1.2657 - accuracy: 0.5586 - val_loss: 1.1353 - val_accuracy: 0.5963\n",
            "Epoch 12/40\n",
            "313/313 [==============================] - 37s 117ms/step - loss: 1.2608 - accuracy: 0.5604 - val_loss: 1.1301 - val_accuracy: 0.6007\n",
            "Epoch 13/40\n",
            "313/313 [==============================] - 36s 115ms/step - loss: 1.2535 - accuracy: 0.5656 - val_loss: 1.1235 - val_accuracy: 0.6026\n",
            "Epoch 14/40\n",
            "313/313 [==============================] - 35s 111ms/step - loss: 1.2456 - accuracy: 0.5641 - val_loss: 1.1392 - val_accuracy: 0.5953\n",
            "Epoch 15/40\n",
            "313/313 [==============================] - 35s 111ms/step - loss: 1.2386 - accuracy: 0.5676 - val_loss: 1.1074 - val_accuracy: 0.6070\n",
            "Epoch 16/40\n",
            "313/313 [==============================] - 36s 116ms/step - loss: 1.2252 - accuracy: 0.5731 - val_loss: 1.1235 - val_accuracy: 0.6015\n",
            "Epoch 17/40\n",
            "313/313 [==============================] - 35s 113ms/step - loss: 1.2211 - accuracy: 0.5730 - val_loss: 1.1039 - val_accuracy: 0.6093\n",
            "Epoch 18/40\n",
            "313/313 [==============================] - 35s 111ms/step - loss: 1.2215 - accuracy: 0.5728 - val_loss: 1.1141 - val_accuracy: 0.6076\n",
            "Epoch 19/40\n",
            "313/313 [==============================] - 36s 117ms/step - loss: 1.2076 - accuracy: 0.5799 - val_loss: 1.1200 - val_accuracy: 0.6036\n",
            "Epoch 20/40\n",
            "313/313 [==============================] - 36s 115ms/step - loss: 1.2080 - accuracy: 0.5782 - val_loss: 1.1220 - val_accuracy: 0.6016\n",
            "Epoch 21/40\n",
            "313/313 [==============================] - 35s 112ms/step - loss: 1.1987 - accuracy: 0.5839 - val_loss: 1.0932 - val_accuracy: 0.6121\n",
            "Epoch 22/40\n",
            "313/313 [==============================] - 35s 111ms/step - loss: 1.2015 - accuracy: 0.5789 - val_loss: 1.1019 - val_accuracy: 0.6110\n",
            "Epoch 23/40\n",
            "313/313 [==============================] - 36s 116ms/step - loss: 1.1947 - accuracy: 0.5815 - val_loss: 1.1164 - val_accuracy: 0.6051\n",
            "Epoch 24/40\n",
            "313/313 [==============================] - 36s 114ms/step - loss: 1.1915 - accuracy: 0.5821 - val_loss: 1.0881 - val_accuracy: 0.6159\n",
            "Epoch 25/40\n",
            "313/313 [==============================] - 35s 111ms/step - loss: 1.1817 - accuracy: 0.5893 - val_loss: 1.0913 - val_accuracy: 0.6132\n",
            "Epoch 26/40\n",
            "313/313 [==============================] - 36s 116ms/step - loss: 1.1803 - accuracy: 0.5904 - val_loss: 1.1094 - val_accuracy: 0.6143\n",
            "Epoch 27/40\n",
            "313/313 [==============================] - 35s 113ms/step - loss: 1.1762 - accuracy: 0.5879 - val_loss: 1.0954 - val_accuracy: 0.6123\n",
            "Epoch 28/40\n",
            "313/313 [==============================] - 34s 110ms/step - loss: 1.1724 - accuracy: 0.5903 - val_loss: 1.1233 - val_accuracy: 0.6054\n"
          ],
          "name": "stdout"
        }
      ]
    }
  ]
}