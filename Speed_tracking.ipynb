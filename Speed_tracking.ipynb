{
  "nbformat": 4,
  "nbformat_minor": 0,
  "metadata": {
    "colab": {
      "name": "Speed_tracking.ipynb",
      "provenance": [],
      "mount_file_id": "1lpW4EsDf4DKjwIGvuRIBZn1ZN9FwfA1Y",
      "authorship_tag": "ABX9TyM2WLCiB9qoo4sTbPBv+IGs",
      "include_colab_link": true
    },
    "kernelspec": {
      "name": "python3",
      "display_name": "Python 3"
    },
    "accelerator": "GPU"
  },
  "cells": [
    {
      "cell_type": "markdown",
      "metadata": {
        "id": "view-in-github",
        "colab_type": "text"
      },
      "source": [
        "<a href=\"https://colab.research.google.com/github/SuneelAbbigari/Machine-Learning/blob/master/Speed_tracking.ipynb\" target=\"_parent\"><img src=\"https://colab.research.google.com/assets/colab-badge.svg\" alt=\"Open In Colab\"/></a>"
      ]
    },
    {
      "cell_type": "code",
      "metadata": {
        "id": "f-EqnJ1K84n7",
        "outputId": "766cca72-93c0-4583-e43f-4595a1f06c94",
        "colab": {
          "base_uri": "https://localhost:8080/",
          "height": 153
        }
      },
      "source": [
        "%cd /content/\n",
        "#!git clone  https://github.com/openremote/or-objectdetection\n"
      ],
      "execution_count": null,
      "outputs": [
        {
          "output_type": "stream",
          "text": [
            "/content\n",
            "Cloning into 'or-objectdetection'...\n",
            "remote: Enumerating objects: 126, done.\u001b[K\n",
            "remote: Counting objects: 100% (126/126), done.\u001b[K\n",
            "remote: Compressing objects: 100% (83/83), done.\u001b[K\n",
            "remote: Total 1022 (delta 58), reused 82 (delta 29), pack-reused 896\u001b[K\n",
            "Receiving objects: 100% (1022/1022), 22.68 MiB | 9.13 MiB/s, done.\n",
            "Resolving deltas: 100% (261/261), done.\n"
          ],
          "name": "stdout"
        }
      ]
    },
    {
      "cell_type": "code",
      "metadata": {
        "id": "DmhJurDVFOxG",
        "outputId": "3ba4bea7-3369-4b03-c2c8-805028eb52ff",
        "colab": {
          "base_uri": "https://localhost:8080/",
          "height": 34
        }
      },
      "source": [
        "%cd /content/or-objectdetection/YOLO_DETECTION"
      ],
      "execution_count": null,
      "outputs": [
        {
          "output_type": "stream",
          "text": [
            "/content/or-objectdetection/YOLO_DETECTION\n"
          ],
          "name": "stdout"
        }
      ]
    },
    {
      "cell_type": "code",
      "metadata": {
        "id": "h9mIbmgqIJ5O",
        "outputId": "aaa924ae-2402-4b18-f3f3-3c6d08fb9d30",
        "colab": {
          "base_uri": "https://localhost:8080/",
          "height": 207
        }
      },
      "source": [
        "import sys\n",
        "sys.path.insert(0, '/content/or-objectdetection')\n",
        "print (sys.path)\n",
        "!pip3 install filterpy\n",
        "import tracker\n",
        "import api\n",
        "import threading\n",
        "import pickle"
      ],
      "execution_count": null,
      "outputs": [
        {
          "output_type": "stream",
          "text": [
            "['/content/or-objectdetection', '', '/env/python', '/usr/lib/python36.zip', '/usr/lib/python3.6', '/usr/lib/python3.6/lib-dynload', '/usr/local/lib/python3.6/dist-packages', '/usr/lib/python3/dist-packages', '/usr/local/lib/python3.6/dist-packages/IPython/extensions', '/root/.ipython']\n",
            "Requirement already satisfied: filterpy in /usr/local/lib/python3.6/dist-packages (1.4.5)\n",
            "Requirement already satisfied: numpy in /usr/local/lib/python3.6/dist-packages (from filterpy) (1.18.5)\n",
            "Requirement already satisfied: scipy in /usr/local/lib/python3.6/dist-packages (from filterpy) (1.4.1)\n",
            "Requirement already satisfied: matplotlib in /usr/local/lib/python3.6/dist-packages (from filterpy) (3.2.2)\n",
            "Requirement already satisfied: python-dateutil>=2.1 in /usr/local/lib/python3.6/dist-packages (from matplotlib->filterpy) (2.8.1)\n",
            "Requirement already satisfied: kiwisolver>=1.0.1 in /usr/local/lib/python3.6/dist-packages (from matplotlib->filterpy) (1.2.0)\n",
            "Requirement already satisfied: cycler>=0.10 in /usr/local/lib/python3.6/dist-packages (from matplotlib->filterpy) (0.10.0)\n",
            "Requirement already satisfied: pyparsing!=2.0.4,!=2.1.2,!=2.1.6,>=2.0.1 in /usr/local/lib/python3.6/dist-packages (from matplotlib->filterpy) (2.4.7)\n",
            "Requirement already satisfied: six>=1.5 in /usr/local/lib/python3.6/dist-packages (from python-dateutil>=2.1->matplotlib->filterpy) (1.15.0)\n"
          ],
          "name": "stdout"
        }
      ]
    },
    {
      "cell_type": "code",
      "metadata": {
        "id": "LwjkYBbMQk6v"
      },
      "source": [
        "import suneel\n",
        "\n"
      ],
      "execution_count": null,
      "outputs": []
    },
    {
      "cell_type": "code",
      "metadata": {
        "id": "Px5GEctcoBDr",
        "outputId": "4ee2e5b5-8c9c-4965-db4b-774224273613",
        "colab": {
          "base_uri": "https://localhost:8080/",
          "height": 309
        }
      },
      "source": [
        "# /content/drive/My Drive/Colab Notebooks/or-objectdetection/YOLO_DETECTION/config/Pantaloons.mp4\n",
        "\n",
        "import threading\n",
        "from api import apiWorker\n",
        "\n",
        "parameterlist = [1, 1, 1, 1, 1, 1, 1, 1, '/content/drive/My Drive/Colab Notebooks/or-objectdetection/YOLO_DETECTION/config/Pantaloons.mp4']\n",
        "\n",
        "print(parameterlist)\n",
        "\n",
        "yoloWorkerThread = threading.Thread(target=tracker.yoloWorker, args=(parameterlist,))\n",
        "\n",
        "# apiThread = threading.Thread(name='api', target=apiWorker)\n",
        "# apiThread.setDaemon(True)\n",
        "\n",
        "# apiThread.start()\n",
        "yoloWorkerThread.start()\n"
      ],
      "execution_count": null,
      "outputs": [
        {
          "output_type": "stream",
          "text": [
            "[1, 1, 1, 1, 1, 1, 1, 1, '/content/drive/My Drive/Colab Notebooks/or-objectdetection/YOLO_DETECTION/config/Pantaloons.mp4']\n",
            "classlist ['person', 'bicycle', 'car', 'motorbike', 'aeroplane', 'bus', 'train', 'truck', 'boat', 'traffic light', 'fire hydrant', 'stop sign', 'parking meter', 'bench', 'bird', 'cat', 'dog', 'horse', 'sheep', 'cow', 'elephant', 'bear', 'zebra', 'giraffe', 'backpack', 'umbrella', 'handbag', 'tie', 'suitcase', 'frisbee', 'skis', 'snowboard', 'sports ball', 'kite', 'baseball bat', 'baseball glove', 'skateboard', 'surfboard', 'tennis racket', 'bottle', 'wine glass', 'cup', 'fork', 'knife', 'spoon', 'bowl', 'banana', 'apple', 'sandwich', 'orange', 'broccoli', 'carrot', 'hot dog', 'pizza', 'donut', 'cake', 'chair', 'sofa', 'pottedplant', 'bed', 'diningtable', 'toilet', 'tvmonitor', 'laptop', 'mouse', 'remote', 'keyboard', 'cell phone', 'microwave', 'oven', 'toaster', 'sink', 'refrigerator', 'book', 'clock', 'vase', 'scissors', 'teddy bear', 'hair drier', 'toothbrush']\n",
            "NOne coed\n",
            "Out side\n"
          ],
          "name": "stdout"
        },
        {
          "output_type": "stream",
          "text": [
            "/content/or-objectdetection/YOLO_DETECTION/sort.py:32: NumbaWarning: \n",
            "Compilation is falling back to object mode WITH looplifting enabled because Function \"iou\" failed type inference due to: non-precise type pyobject\n",
            "[1] During: typing of argument at /content/or-objectdetection/YOLO_DETECTION/sort.py (37)\n",
            "\n",
            "File \"sort.py\", line 37:\n",
            "def iou(bb_test,bb_gt):\n",
            "    <source elided>\n",
            "  \"\"\"\n",
            "  xx1 = np.maximum(bb_test[0], bb_gt[0])\n",
            "  ^\n",
            "\n",
            "  @jit\n"
          ],
          "name": "stderr"
        }
      ]
    },
    {
      "cell_type": "code",
      "metadata": {
        "id": "YJLbgWEMWz7q"
      },
      "source": [
        "def warn(*args, **kwargs):\n",
        "    pass\n",
        "import warnings\n",
        "warnings.warn = warn\n",
        "\n",
        "\n",
        "from torchvision import datasets, transforms\n",
        "from torch.utils.data import DataLoader\n",
        "import os, sys, time, datetime, random\n",
        "from torch.autograd import Variable\n",
        "from collections import deque\n",
        "from PIL import Image\n",
        "from analyse import *\n",
        "from models import *\n",
        "from utils import *\n",
        "from sort import *\n",
        "import torch\n",
        "import json\n",
        "import cv2"
      ],
      "execution_count": null,
      "outputs": []
    }
  ]
}