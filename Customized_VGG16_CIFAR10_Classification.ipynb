{
  "nbformat": 4,
  "nbformat_minor": 0,
  "metadata": {
    "kernelspec": {
      "display_name": "Python 3",
      "language": "python",
      "name": "python3"
    },
    "language_info": {
      "codemirror_mode": {
        "name": "ipython",
        "version": 3
      },
      "file_extension": ".py",
      "mimetype": "text/x-python",
      "name": "python",
      "nbconvert_exporter": "python",
      "pygments_lexer": "ipython3",
      "version": "3.7.6"
    },
    "colab": {
      "name": "code.ipynb",
      "provenance": [],
      "include_colab_link": true
    },
    "accelerator": "GPU"
  },
  "cells": [
    {
      "cell_type": "markdown",
      "metadata": {
        "id": "view-in-github",
        "colab_type": "text"
      },
      "source": [
        "<a href=\"https://colab.research.google.com/github/SuneelAbbigari/Machine-Learning/blob/master/Customized_VGG16_CIFAR10_Classification.ipynb\" target=\"_parent\"><img src=\"https://colab.research.google.com/assets/colab-badge.svg\" alt=\"Open In Colab\"/></a>"
      ]
    },
    {
      "cell_type": "code",
      "metadata": {
        "id": "CKCVLMEhm74g",
        "colab_type": "code",
        "colab": {
          "base_uri": "https://localhost:8080/",
          "height": 34
        },
        "outputId": "0b50e799-1c7b-4a47-acea-75db35be8b54"
      },
      "source": [
        "#Importing required modules\n",
        "\n",
        "import tensorflow as tf\n",
        "import numpy as np\n",
        "import pandas as pd\n",
        "import matplotlib.pyplot as plt\n",
        "%matplotlib inline\n",
        "\n",
        "import keras\n",
        "from sklearn.model_selection import train_test_split\n",
        "from tensorflow.python.keras.models import Sequential\n",
        "from tensorflow.python.keras.applications.vgg16 import VGG16\n",
        "from tensorflow.python.keras.layers import Dense, Flatten, GlobalAveragePooling2D, Dropout\n",
        "from tensorflow.keras.preprocessing.image import ImageDataGenerator"
      ],
      "execution_count": 1,
      "outputs": [
        {
          "output_type": "stream",
          "text": [
            "Using TensorFlow backend.\n"
          ],
          "name": "stderr"
        }
      ]
    },
    {
      "cell_type": "code",
      "metadata": {
        "id": "A45Dlvy-n52Q",
        "colab_type": "code",
        "colab": {}
      },
      "source": [
        "#Downloading the CIFAR10 Data.\n",
        "\n",
        "(x_train, y_train), (x_test, y_test) = tf.keras.datasets.cifar10.load_data()"
      ],
      "execution_count": 2,
      "outputs": []
    },
    {
      "cell_type": "code",
      "metadata": {
        "id": "4KEW8siipPMG",
        "colab_type": "code",
        "colab": {
          "base_uri": "https://localhost:8080/",
          "height": 84
        },
        "outputId": "bc8a4fe7-3120-48af-b99e-d4829eb787b7"
      },
      "source": [
        "display(x_train.shape)\n",
        "display(y_train.shape)\n",
        "\n",
        "print(type(y_train[0]))\n",
        "print(\"x_train shape is :\", y_train[0])"
      ],
      "execution_count": 3,
      "outputs": [
        {
          "output_type": "display_data",
          "data": {
            "text/plain": [
              "(50000, 32, 32, 3)"
            ]
          },
          "metadata": {
            "tags": []
          }
        },
        {
          "output_type": "display_data",
          "data": {
            "text/plain": [
              "(50000, 1)"
            ]
          },
          "metadata": {
            "tags": []
          }
        },
        {
          "output_type": "stream",
          "text": [
            "<class 'numpy.ndarray'>\n",
            "x_train shape is : [6]\n"
          ],
          "name": "stdout"
        }
      ]
    },
    {
      "cell_type": "code",
      "metadata": {
        "id": "PBX-7cdjpiYK",
        "colab_type": "code",
        "colab": {
          "base_uri": "https://localhost:8080/",
          "height": 223
        },
        "outputId": "d8c4ab17-fba4-4c9a-c762-d27f5ca35466"
      },
      "source": [
        "plt.figure(figsize=(2,2))\n",
        "plt.title(y_train[0])\n",
        "plt.imshow(x_train[0])\n",
        "plt.colorbar()"
      ],
      "execution_count": 4,
      "outputs": [
        {
          "output_type": "stream",
          "text": [
            "/usr/local/lib/python3.6/dist-packages/matplotlib/text.py:1165: FutureWarning: elementwise comparison failed; returning scalar instead, but in the future will perform elementwise comparison\n",
            "  if s != self._text:\n"
          ],
          "name": "stderr"
        },
        {
          "output_type": "execute_result",
          "data": {
            "text/plain": [
              "<matplotlib.colorbar.Colorbar at 0x7fcdb5394d30>"
            ]
          },
          "metadata": {
            "tags": []
          },
          "execution_count": 4
        },
        {
          "output_type": "display_data",
          "data": {
            "image/png": "[encoded data removed]",
            "text/plain": [
              "<Figure size 144x144 with 2 Axes>"
            ]
          },
          "metadata": {
            "tags": [],
            "needs_background": "light"
          }
        }
      ]
    },
    {
      "cell_type": "code",
      "metadata": {
        "id": "9-dodZQOpnLn",
        "colab_type": "code",
        "colab": {}
      },
      "source": [
        "#Normalizing the data.\n",
        "\n",
        "x_train = x_train.astype(np.float32)\n",
        "x_test = x_test.astype(np.float32)\n",
        "\n",
        "x_train /= 255\n",
        "x_test /= 255\n",
        "\n",
        "\n",
        "y_train = keras.utils.to_categorical(y_train, 10)\n",
        "y_test = keras.utils.to_categorical(y_test, 10)"
      ],
      "execution_count": 5,
      "outputs": []
    },
    {
      "cell_type": "code",
      "metadata": {
        "id": "VNgisO1Fp8Ql",
        "colab_type": "code",
        "colab": {
          "base_uri": "https://localhost:8080/",
          "height": 890
        },
        "outputId": "410c8788-debe-41c3-83a2-1cd7d2e3a74a"
      },
      "source": [
        "print(type(x_train[0]))\n",
        "print(\"x_train shape is :\", x_train[0])\n",
        "\n",
        "print(type(y_train[0]))\n",
        "print(\"x_train shape is :\", y_train[0])"
      ],
      "execution_count": 6,
      "outputs": [
        {
          "output_type": "stream",
          "text": [
            "<class 'numpy.ndarray'>\n",
            "x_train shape is : [[[0.23137255 0.24313726 0.24705882]\n",
            "  [0.16862746 0.18039216 0.1764706 ]\n",
            "  [0.19607843 0.1882353  0.16862746]\n",
            "  ...\n",
            "  [0.61960787 0.5176471  0.42352942]\n",
            "  [0.59607846 0.49019608 0.4       ]\n",
            "  [0.5803922  0.4862745  0.40392157]]\n",
            "\n",
            " [[0.0627451  0.07843138 0.07843138]\n",
            "  [0.         0.         0.        ]\n",
            "  [0.07058824 0.03137255 0.        ]\n",
            "  ...\n",
            "  [0.48235294 0.34509805 0.21568628]\n",
            "  [0.46666667 0.3254902  0.19607843]\n",
            "  [0.47843137 0.34117648 0.22352941]]\n",
            "\n",
            " [[0.09803922 0.09411765 0.08235294]\n",
            "  [0.0627451  0.02745098 0.        ]\n",
            "  [0.19215687 0.10588235 0.03137255]\n",
            "  ...\n",
            "  [0.4627451  0.32941177 0.19607843]\n",
            "  [0.47058824 0.32941177 0.19607843]\n",
            "  [0.42745098 0.28627452 0.16470589]]\n",
            "\n",
            " ...\n",
            "\n",
            " [[0.8156863  0.6666667  0.3764706 ]\n",
            "  [0.7882353  0.6        0.13333334]\n",
            "  [0.7764706  0.6313726  0.10196079]\n",
            "  ...\n",
            "  [0.627451   0.52156866 0.27450982]\n",
            "  [0.21960784 0.12156863 0.02745098]\n",
            "  [0.20784314 0.13333334 0.07843138]]\n",
            "\n",
            " [[0.7058824  0.54509807 0.3764706 ]\n",
            "  [0.6784314  0.48235294 0.16470589]\n",
            "  [0.7294118  0.5647059  0.11764706]\n",
            "  ...\n",
            "  [0.72156864 0.5803922  0.36862746]\n",
            "  [0.38039216 0.24313726 0.13333334]\n",
            "  [0.3254902  0.20784314 0.13333334]]\n",
            "\n",
            " [[0.69411767 0.5647059  0.45490196]\n",
            "  [0.65882355 0.5058824  0.36862746]\n",
            "  [0.7019608  0.5568628  0.34117648]\n",
            "  ...\n",
            "  [0.84705883 0.72156864 0.54901963]\n",
            "  [0.5921569  0.4627451  0.32941177]\n",
            "  [0.48235294 0.36078432 0.28235295]]]\n",
            "<class 'numpy.ndarray'>\n",
            "x_train shape is : [0. 0. 0. 0. 0. 0. 1. 0. 0. 0.]\n"
          ],
          "name": "stdout"
        }
      ]
    },
    {
      "cell_type": "code",
      "metadata": {
        "id": "mmYxVpArqMMS",
        "colab_type": "code",
        "colab": {
          "base_uri": "https://localhost:8080/",
          "height": 223
        },
        "outputId": "a89ece63-4cb3-4568-e232-da554f69ec45"
      },
      "source": [
        "plt.figure(figsize=(2,2))\n",
        "plt.title(y_train[0])\n",
        "plt.imshow(x_train[0])\n",
        "plt.colorbar()"
      ],
      "execution_count": 7,
      "outputs": [
        {
          "output_type": "stream",
          "text": [
            "/usr/local/lib/python3.6/dist-packages/matplotlib/text.py:1165: FutureWarning: elementwise comparison failed; returning scalar instead, but in the future will perform elementwise comparison\n",
            "  if s != self._text:\n"
          ],
          "name": "stderr"
        },
        {
          "output_type": "execute_result",
          "data": {
            "text/plain": [
              "<matplotlib.colorbar.Colorbar at 0x7fcdb4e2ce10>"
            ]
          },
          "metadata": {
            "tags": []
          },
          "execution_count": 7
        },
        {
          "output_type": "display_data",
          "data": {
            "image/png": "[encoded data removed]",
            "text/plain": [
              "<Figure size 144x144 with 2 Axes>"
            ]
          },
          "metadata": {
            "tags": [],
            "needs_background": "light"
          }
        }
      ]
    },
    {
      "cell_type": "code",
      "metadata": {
        "id": "v2YS0fjQqbtJ",
        "colab_type": "code",
        "colab": {
          "base_uri": "https://localhost:8080/",
          "height": 84
        },
        "outputId": "2c98d749-c76c-4d76-d276-130b80b8876f"
      },
      "source": [
        "#Splitting the train data as train and valid data.\n",
        "\n",
        "train_data, valid_data, train_val, valid_val = train_test_split(x_train, y_train, test_size=0.2, random_state=1,stratify=y_train)\n",
        "\n",
        "# Datasets shapes\n",
        "print( \"train_data shape\",train_data.shape)\n",
        "print( \"train_val shape\",train_val.shape)\n",
        "print( \"valid_data shape\",valid_data.shape)\n",
        "print( \"valid_val shape\",valid_val.shape)"
      ],
      "execution_count": 8,
      "outputs": [
        {
          "output_type": "stream",
          "text": [
            "train_data shape (40000, 32, 32, 3)\n",
            "train_val shape (40000, 10)\n",
            "valid_data shape (10000, 32, 32, 3)\n",
            "valid_val shape (10000, 10)\n"
          ],
          "name": "stdout"
        }
      ]
    },
    {
      "cell_type": "code",
      "metadata": {
        "id": "auj1to-MqmfA",
        "colab_type": "code",
        "colab": {
          "base_uri": "https://localhost:8080/",
          "height": 193
        },
        "outputId": "fac9a572-8f48-4ab1-cde3-76c172e2f267"
      },
      "source": [
        "#Assigning the label for each categoty.\n",
        "\n",
        "labels = ['Airplane', 'Automobile', 'Bird', 'Cat', 'Deer', 'Dog', 'Frog', 'Horse', 'Ship', 'Truck']\n",
        "max_index_col = np.argmax(y_train[0], axis=0)\n",
        "max_index_col\n",
        "\n",
        "plt.figure(figsize=(2,2))\n",
        "print(labels[max_index_col])\n",
        "plt.imshow(x_train[0])"
      ],
      "execution_count": 9,
      "outputs": [
        {
          "output_type": "stream",
          "text": [
            "Frog\n"
          ],
          "name": "stdout"
        },
        {
          "output_type": "execute_result",
          "data": {
            "text/plain": [
              "<matplotlib.image.AxesImage at 0x7fcdb4da3080>"
            ]
          },
          "metadata": {
            "tags": []
          },
          "execution_count": 9
        },
        {
          "output_type": "display_data",
          "data": {
            "image/png": "[encoded data removed]",
            "text/plain": [
              "<Figure size 144x144 with 1 Axes>"
            ]
          },
          "metadata": {
            "tags": [],
            "needs_background": "light"
          }
        }
      ]
    },
    {
      "cell_type": "code",
      "metadata": {
        "id": "fWPVllQUzl7f",
        "colab_type": "code",
        "colab": {
          "base_uri": "https://localhost:8080/",
          "height": 790
        },
        "outputId": "76768e56-e789-4263-c462-677683ee5515"
      },
      "source": [
        "#Taking the layers of VGG16, except the last layer (out put layer)\n",
        "\n",
        "base= VGG16(weights='imagenet', \n",
        "                  include_top=False, \n",
        "                  input_shape=(32, 32, 3))\n",
        "\n",
        "base.summary()"
      ],
      "execution_count": 10,
      "outputs": [
        {
          "output_type": "stream",
          "text": [
            "Model: \"vgg16\"\n",
            "_________________________________________________________________\n",
            "Layer (type)                 Output Shape              Param #   \n",
            "=================================================================\n",
            "input_1 (InputLayer)         [(None, 32, 32, 3)]       0         \n",
            "_________________________________________________________________\n",
            "block1_conv1 (Conv2D)        (None, 32, 32, 64)        1792      \n",
            "_________________________________________________________________\n",
            "block1_conv2 (Conv2D)        (None, 32, 32, 64)        36928     \n",
            "_________________________________________________________________\n",
            "block1_pool (MaxPooling2D)   (None, 16, 16, 64)        0         \n",
            "_________________________________________________________________\n",
            "block2_conv1 (Conv2D)        (None, 16, 16, 128)       73856     \n",
            "_________________________________________________________________\n",
            "block2_conv2 (Conv2D)        (None, 16, 16, 128)       147584    \n",
            "_________________________________________________________________\n",
            "block2_pool (MaxPooling2D)   (None, 8, 8, 128)         0         \n",
            "_________________________________________________________________\n",
            "block3_conv1 (Conv2D)        (None, 8, 8, 256)         295168    \n",
            "_________________________________________________________________\n",
            "block3_conv2 (Conv2D)        (None, 8, 8, 256)         590080    \n",
            "_________________________________________________________________\n",
            "block3_conv3 (Conv2D)        (None, 8, 8, 256)         590080    \n",
            "_________________________________________________________________\n",
            "block3_pool (MaxPooling2D)   (None, 4, 4, 256)         0         \n",
            "_________________________________________________________________\n",
            "block4_conv1 (Conv2D)        (None, 4, 4, 512)         1180160   \n",
            "_________________________________________________________________\n",
            "block4_conv2 (Conv2D)        (None, 4, 4, 512)         2359808   \n",
            "_________________________________________________________________\n",
            "block4_conv3 (Conv2D)        (None, 4, 4, 512)         2359808   \n",
            "_________________________________________________________________\n",
            "block4_pool (MaxPooling2D)   (None, 2, 2, 512)         0         \n",
            "_________________________________________________________________\n",
            "block5_conv1 (Conv2D)        (None, 2, 2, 512)         2359808   \n",
            "_________________________________________________________________\n",
            "block5_conv2 (Conv2D)        (None, 2, 2, 512)         2359808   \n",
            "_________________________________________________________________\n",
            "block5_conv3 (Conv2D)        (None, 2, 2, 512)         2359808   \n",
            "_________________________________________________________________\n",
            "block5_pool (MaxPooling2D)   (None, 1, 1, 512)         0         \n",
            "=================================================================\n",
            "Total params: 14,714,688\n",
            "Trainable params: 14,714,688\n",
            "Non-trainable params: 0\n",
            "_________________________________________________________________\n"
          ],
          "name": "stdout"
        }
      ]
    },
    {
      "cell_type": "code",
      "metadata": {
        "id": "Mt7qtNQd9fB4",
        "colab_type": "code",
        "colab": {}
      },
      "source": [
        "#Making few VGG layers as trainable layers.\n",
        "\n",
        "for layer in base.layers:\n",
        "  layer.trainable = False\n",
        "for layer in base.layers[15:]:\n",
        "  layer.trainable = True"
      ],
      "execution_count": 11,
      "outputs": []
    },
    {
      "cell_type": "code",
      "metadata": {
        "id": "YHzlc-_2svl6",
        "colab_type": "code",
        "colab": {
          "base_uri": "https://localhost:8080/",
          "height": 336
        },
        "outputId": "42ad5329-afe9-4122-dce0-49676c517f5e"
      },
      "source": [
        "#Checking the each layer status.\n",
        "\n",
        "for layer in base.layers:\n",
        "    print(layer, layer.name, layer.trainable)\n",
        "    "
      ],
      "execution_count": 12,
      "outputs": [
        {
          "output_type": "stream",
          "text": [
            "<tensorflow.python.keras.engine.input_layer.InputLayer object at 0x7fcdb4de9f60> input_1 False\n",
            "<tensorflow.python.keras.layers.convolutional.Conv2D object at 0x7fcdb4dc4b70> block1_conv1 False\n",
            "<tensorflow.python.keras.layers.convolutional.Conv2D object at 0x7fcdb4dc4518> block1_conv2 False\n",
            "<tensorflow.python.keras.layers.pooling.MaxPooling2D object at 0x7fcdb4da32e8> block1_pool False\n",
            "<tensorflow.python.keras.layers.convolutional.Conv2D object at 0x7fcdb4dbada0> block2_conv1 False\n",
            "<tensorflow.python.keras.layers.convolutional.Conv2D object at 0x7fcdb4dd0128> block2_conv2 False\n",
            "<tensorflow.python.keras.layers.pooling.MaxPooling2D object at 0x7fcdb45484e0> block2_pool False\n",
            "<tensorflow.python.keras.layers.convolutional.Conv2D object at 0x7fcdb454fba8> block3_conv1 False\n",
            "<tensorflow.python.keras.layers.convolutional.Conv2D object at 0x7fcdb4557320> block3_conv2 False\n",
            "<tensorflow.python.keras.layers.convolutional.Conv2D object at 0x7fcdb02744e0> block3_conv3 False\n",
            "<tensorflow.python.keras.layers.pooling.MaxPooling2D object at 0x7fcdb027b3c8> block3_pool False\n",
            "<tensorflow.python.keras.layers.convolutional.Conv2D object at 0x7fcdb027b278> block4_conv1 False\n",
            "<tensorflow.python.keras.layers.convolutional.Conv2D object at 0x7fcdb02815c0> block4_conv2 False\n",
            "<tensorflow.python.keras.layers.convolutional.Conv2D object at 0x7fcdb0289780> block4_conv3 False\n",
            "<tensorflow.python.keras.layers.pooling.MaxPooling2D object at 0x7fcdb02906a0> block4_pool False\n",
            "<tensorflow.python.keras.layers.convolutional.Conv2D object at 0x7fcdb0290518> block5_conv1 True\n",
            "<tensorflow.python.keras.layers.convolutional.Conv2D object at 0x7fcdb0299860> block5_conv2 True\n",
            "<tensorflow.python.keras.layers.convolutional.Conv2D object at 0x7fcdb029fa20> block5_conv3 True\n",
            "<tensorflow.python.keras.layers.pooling.MaxPooling2D object at 0x7fcdb02a7940> block5_pool True\n"
          ],
          "name": "stdout"
        }
      ]
    },
    {
      "cell_type": "code",
      "metadata": {
        "id": "2Ff2zweW_88P",
        "colab_type": "code",
        "colab": {}
      },
      "source": [
        "model = Sequential()\n",
        "model.add(base)\n",
        "model.add(Flatten())\n",
        "model.add(Dense(128, activation='relu'))\n",
        "model.add(Dropout(0.4))\n",
        "model.add(Dense(128, activation='relu'))\n",
        "model.add(Dense(10, activation='softmax'))"
      ],
      "execution_count": 13,
      "outputs": []
    },
    {
      "cell_type": "code",
      "metadata": {
        "id": "5LBpkBcFASDT",
        "colab_type": "code",
        "colab": {
          "base_uri": "https://localhost:8080/",
          "height": 353
        },
        "outputId": "91d5b828-d3d9-4211-827e-07f2eda89afe"
      },
      "source": [
        "model.summary()"
      ],
      "execution_count": 14,
      "outputs": [
        {
          "output_type": "stream",
          "text": [
            "Model: \"sequential\"\n",
            "_________________________________________________________________\n",
            "Layer (type)                 Output Shape              Param #   \n",
            "=================================================================\n",
            "vgg16 (Model)                (None, 1, 1, 512)         14714688  \n",
            "_________________________________________________________________\n",
            "flatten (Flatten)            (None, 512)               0         \n",
            "_________________________________________________________________\n",
            "dense (Dense)                (None, 128)               65664     \n",
            "_________________________________________________________________\n",
            "dropout (Dropout)            (None, 128)               0         \n",
            "_________________________________________________________________\n",
            "dense_1 (Dense)              (None, 128)               16512     \n",
            "_________________________________________________________________\n",
            "dense_2 (Dense)              (None, 10)                1290      \n",
            "=================================================================\n",
            "Total params: 14,798,154\n",
            "Trainable params: 7,162,890\n",
            "Non-trainable params: 7,635,264\n",
            "_________________________________________________________________\n"
          ],
          "name": "stdout"
        }
      ]
    },
    {
      "cell_type": "code",
      "metadata": {
        "id": "bGaNUJ6IgltK",
        "colab_type": "code",
        "colab": {
          "base_uri": "https://localhost:8080/",
          "height": 50
        },
        "outputId": "f11536a4-44b1-4371-e899-bd08c67ef0ae"
      },
      "source": [
        "datagen = ImageDataGenerator(\n",
        "            horizontal_flip=True,\n",
        "            rotation_range=20,\n",
        "            width_shift_range=0.1,\n",
        "            height_shift_range=0.1,\n",
        "            zoom_range=0.2,\n",
        "            fill_mode='nearest'\n",
        "            )\n",
        "\n",
        "datagen.fit(train_data)\n",
        "print( \"train_data shape\",train_data.shape)\n",
        "print( \"train_val shape\",train_val.shape)"
      ],
      "execution_count": 15,
      "outputs": [
        {
          "output_type": "stream",
          "text": [
            "train_data shape (40000, 32, 32, 3)\n",
            "train_val shape (40000, 10)\n"
          ],
          "name": "stdout"
        }
      ]
    },
    {
      "cell_type": "code",
      "metadata": {
        "id": "JnTFh3Xmg3KU",
        "colab_type": "code",
        "colab": {
          "base_uri": "https://localhost:8080/",
          "height": 706
        },
        "outputId": "bf99586f-4e26-4265-c2ee-e9502833d4cc"
      },
      "source": [
        "categorical_crossentropy = tf.keras.losses.SparseCategoricalCrossentropy(from_logits = True)\n",
        "\n",
        "model.compile(optimizer='adam',loss= 'categorical_crossentropy',metrics=['accuracy'])\n",
        "\n",
        "callback = tf.keras.callbacks.EarlyStopping(monitor='val_loss',min_delta=0.0001, patience=4) \n",
        "\n",
        "history = model.fit_generator(datagen.flow(train_data, train_val,\n",
        "                              batch_size=128),\n",
        "                              epochs=40,\n",
        "                              callbacks=[callback],\n",
        "                              validation_data=(valid_data, valid_val),\n",
        "                              shuffle=True)"
      ],
      "execution_count": 16,
      "outputs": [
        {
          "output_type": "stream",
          "text": [
            "WARNING:tensorflow:From <ipython-input-16-6eb8b24dfcf7>:12: Model.fit_generator (from tensorflow.python.keras.engine.training) is deprecated and will be removed in a future version.\n",
            "Instructions for updating:\n",
            "Please use Model.fit, which supports generators.\n",
            "Epoch 1/40\n",
            "313/313 [==============================] - 38s 122ms/step - loss: 1.5382 - accuracy: 0.4470 - val_loss: 1.0310 - val_accuracy: 0.6546\n",
            "Epoch 2/40\n",
            "313/313 [==============================] - 37s 117ms/step - loss: 1.1554 - accuracy: 0.6079 - val_loss: 0.9396 - val_accuracy: 0.6734\n",
            "Epoch 3/40\n",
            "313/313 [==============================] - 36s 116ms/step - loss: 1.0646 - accuracy: 0.6429 - val_loss: 0.9118 - val_accuracy: 0.6903\n",
            "Epoch 4/40\n",
            "313/313 [==============================] - 36s 116ms/step - loss: 0.9973 - accuracy: 0.6652 - val_loss: 0.8388 - val_accuracy: 0.7128\n",
            "Epoch 5/40\n",
            "313/313 [==============================] - 36s 116ms/step - loss: 0.9550 - accuracy: 0.6773 - val_loss: 0.8147 - val_accuracy: 0.7182\n",
            "Epoch 6/40\n",
            "313/313 [==============================] - 36s 116ms/step - loss: 0.9310 - accuracy: 0.6844 - val_loss: 0.7766 - val_accuracy: 0.7296\n",
            "Epoch 7/40\n",
            "313/313 [==============================] - 36s 115ms/step - loss: 0.9016 - accuracy: 0.6908 - val_loss: 0.8510 - val_accuracy: 0.7018\n",
            "Epoch 8/40\n",
            "313/313 [==============================] - 36s 116ms/step - loss: 0.8830 - accuracy: 0.7008 - val_loss: 0.7646 - val_accuracy: 0.7357\n",
            "Epoch 9/40\n",
            "313/313 [==============================] - 36s 115ms/step - loss: 0.8695 - accuracy: 0.7036 - val_loss: 0.8124 - val_accuracy: 0.7287\n",
            "Epoch 10/40\n",
            "313/313 [==============================] - 36s 115ms/step - loss: 0.8294 - accuracy: 0.7178 - val_loss: 0.7555 - val_accuracy: 0.7419\n",
            "Epoch 11/40\n",
            "313/313 [==============================] - 36s 115ms/step - loss: 0.8258 - accuracy: 0.7176 - val_loss: 0.7574 - val_accuracy: 0.7408\n",
            "Epoch 12/40\n",
            "313/313 [==============================] - 36s 115ms/step - loss: 0.8090 - accuracy: 0.7251 - val_loss: 0.7293 - val_accuracy: 0.7506\n",
            "Epoch 13/40\n",
            "313/313 [==============================] - 36s 115ms/step - loss: 0.8013 - accuracy: 0.7269 - val_loss: 0.7509 - val_accuracy: 0.7423\n",
            "Epoch 14/40\n",
            "313/313 [==============================] - 36s 116ms/step - loss: 0.7851 - accuracy: 0.7322 - val_loss: 0.7454 - val_accuracy: 0.7454\n",
            "Epoch 15/40\n",
            "313/313 [==============================] - 36s 116ms/step - loss: 0.7797 - accuracy: 0.7339 - val_loss: 0.7061 - val_accuracy: 0.7605\n",
            "Epoch 16/40\n",
            "313/313 [==============================] - 36s 115ms/step - loss: 0.7657 - accuracy: 0.7383 - val_loss: 0.7557 - val_accuracy: 0.7439\n",
            "Epoch 17/40\n",
            "313/313 [==============================] - 36s 114ms/step - loss: 0.7525 - accuracy: 0.7448 - val_loss: 0.7211 - val_accuracy: 0.7536\n",
            "Epoch 18/40\n",
            "313/313 [==============================] - 36s 114ms/step - loss: 0.7437 - accuracy: 0.7459 - val_loss: 0.7146 - val_accuracy: 0.7587\n",
            "Epoch 19/40\n",
            "313/313 [==============================] - 36s 116ms/step - loss: 0.7245 - accuracy: 0.7530 - val_loss: 0.7155 - val_accuracy: 0.7570\n"
          ],
          "name": "stdout"
        }
      ]
    },
    {
      "cell_type": "code",
      "metadata": {
        "id": "di1l9QlNozqp",
        "colab_type": "code",
        "colab": {
          "base_uri": "https://localhost:8080/",
          "height": 296
        },
        "outputId": "4bb1739a-60ae-46db-b280-0f16dfdff963"
      },
      "source": [
        "plt.plot(history.history['loss'], label='loss')\n",
        "plt.plot(history.history['val_loss'], label = 'val_loss')\n",
        "plt.xlabel('Epoch')\n",
        "plt.ylabel('loss')\n",
        "plt.legend(loc='lower left')\n"
      ],
      "execution_count": 17,
      "outputs": [
        {
          "output_type": "execute_result",
          "data": {
            "text/plain": [
              "<matplotlib.legend.Legend at 0x7fcd5b022e10>"
            ]
          },
          "metadata": {
            "tags": []
          },
          "execution_count": 17
        },
        {
          "output_type": "display_data",
          "data": {
            "image/png": "[encoded data removed]",
            "text/plain": [
              "<Figure size 432x288 with 1 Axes>"
            ]
          },
          "metadata": {
            "tags": [],
            "needs_background": "light"
          }
        }
      ]
    },
    {
      "cell_type": "code",
      "metadata": {
        "id": "-bZOt4hh83T1",
        "colab_type": "code",
        "colab": {
          "base_uri": "https://localhost:8080/",
          "height": 67
        },
        "outputId": "3d9d3e83-63ab-452a-d4d4-ecdb8197fe1c"
      },
      "source": [
        "#Evaluating the test data.\n",
        "\n",
        "scores = model.evaluate(x_test, y_test,verbose=1)\n",
        "print('Test loss:', scores[0])\n",
        "print('Test accuracy:', scores[1])"
      ],
      "execution_count": 18,
      "outputs": [
        {
          "output_type": "stream",
          "text": [
            "313/313 [==============================] - 6s 19ms/step - loss: 0.7672 - accuracy: 0.7435\n",
            "Test loss: 0.7672441601753235\n",
            "Test accuracy: 0.7434999942779541\n"
          ],
          "name": "stdout"
        }
      ]
    },
    {
      "cell_type": "code",
      "metadata": {
        "id": "vOh8ZC2qDjQY",
        "colab_type": "code",
        "colab": {}
      },
      "source": [
        ""
      ],
      "execution_count": 18,
      "outputs": []
    },
    {
      "cell_type": "code",
      "metadata": {
        "id": "K8pvxWid84K7",
        "colab_type": "code",
        "colab": {
          "base_uri": "https://localhost:8080/",
          "height": 104
        },
        "outputId": "31d49d00-7c3e-4ccd-92c8-bb2a7c5fded2"
      },
      "source": [
        "model.save(\"Customized_VGG16_CIFAR10.model\")"
      ],
      "execution_count": 19,
      "outputs": [
        {
          "output_type": "stream",
          "text": [
            "WARNING:tensorflow:From /usr/local/lib/python3.6/dist-packages/tensorflow/python/ops/resource_variable_ops.py:1817: calling BaseResourceVariable.__init__ (from tensorflow.python.ops.resource_variable_ops) with constraint is deprecated and will be removed in a future version.\n",
            "Instructions for updating:\n",
            "If using Keras pass *_constraint arguments to layers.\n",
            "INFO:tensorflow:Assets written to: Customized_VGG16_CIFAR10.model/assets\n"
          ],
          "name": "stdout"
        }
      ]
    }
  ]
}